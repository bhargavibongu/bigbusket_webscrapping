{
 "cells": [
  {
   "cell_type": "code",
   "execution_count": 62,
   "metadata": {},
   "outputs": [
    {
     "name": "stderr",
     "output_type": "stream",
     "text": [
      "\n",
      "\n",
      "====== WebDriver manager ======\n",
      "Current google-chrome version is 98.0.4758\n",
      "Get LATEST driver version for 98.0.4758\n",
      "Driver [C:\\Users\\dhant\\.wdm\\drivers\\chromedriver\\win32\\98.0.4758.102\\chromedriver.exe] found in cache\n"
     ]
    }
   ],
   "source": [
    "from openpyxl import Workbook\n",
    "from selenium.webdriver.common.by import By\n",
    "import selenium\n",
    "import xlsxwriter\n",
    "from selenium import webdriver\n",
    "from selenium import webdriver as wb\n",
    "from webdriver_manager.chrome import ChromeDriverManager\n",
    "webD=wb.Chrome(ChromeDriverManager().install())\n",
    "webD.get('https://www.bigbasket.com/')"
   ]
  },
  {
   "cell_type": "code",
   "execution_count": 68,
   "metadata": {},
   "outputs": [],
   "source": [
    "element_list=[]\n",
    "details=[]\n",
    "for page in range(1,3,1):\n",
    "    page_url='https://www.bigbasket.com/cl/foodgrains-oil-masala/?nc=nb#!page='+str(page)\n",
    "    webD.get(page_url)\n",
    "    brand=webD.find_elements(By.XPATH,\"//h6[contains(@class,'ng-binding')]\")\n",
    "    item=webD.find_elements(By.XPATH,\"//div[contains(@class,'col-sm-12 col-xs-7 prod-name')]\")\n",
    "    discount_price=webD.find_elements(By.XPATH,\"//span[contains(@class,'discnt-price')]\")\n",
    "    actual_price=webD.find_elements(By.XPATH,\"//span[contains(@class,'mp-price ng-scope')]\")\n",
    "    quantity=webD.find_elements(By.XPATH,\"//button[contains(@class,'btn btn-default dropdown-toggle form-control')]\")\n",
    "    for  i in range(len(quantity)):\n",
    "        element_list.append([brand[i].text,item[i].text])\n",
    "        details.append({'Brand':brand[i].text,'Item':item[i].text,'Discount_price':discount_price[i].text,'Actual_price':actual_price[i].text,'Quantity':quantity[i].text})"
   ]
  },
  {
   "cell_type": "code",
   "execution_count": 69,
   "metadata": {},
   "outputs": [
    {
     "data": {
      "text/plain": [
       "66"
      ]
     },
     "execution_count": 69,
     "metadata": {},
     "output_type": "execute_result"
    }
   ],
   "source": [
    "len(details)"
   ]
  },
  {
   "cell_type": "code",
   "execution_count": 70,
   "metadata": {},
   "outputs": [
    {
     "data": {
      "text/html": [
       "<div>\n",
       "<style scoped>\n",
       "    .dataframe tbody tr th:only-of-type {\n",
       "        vertical-align: middle;\n",
       "    }\n",
       "\n",
       "    .dataframe tbody tr th {\n",
       "        vertical-align: top;\n",
       "    }\n",
       "\n",
       "    .dataframe thead th {\n",
       "        text-align: right;\n",
       "    }\n",
       "</style>\n",
       "<table border=\"1\" class=\"dataframe\">\n",
       "  <thead>\n",
       "    <tr style=\"text-align: right;\">\n",
       "      <th></th>\n",
       "      <th>Brand</th>\n",
       "      <th>Item</th>\n",
       "      <th>Discount_price</th>\n",
       "      <th>Actual_price</th>\n",
       "      <th>Quantity</th>\n",
       "    </tr>\n",
       "  </thead>\n",
       "  <tbody>\n",
       "    <tr>\n",
       "      <th>0</th>\n",
       "      <td>Aashirvaad</td>\n",
       "      <td>Aashirvaad\\nAtta/Godihittu - Whole Wheat\\n4.1\\...</td>\n",
       "      <td>Rs 396</td>\n",
       "      <td>Rs 499</td>\n",
       "      <td>10 kg Pouch - Rs 396.00</td>\n",
       "    </tr>\n",
       "    <tr>\n",
       "      <th>1</th>\n",
       "      <td>BB Royal</td>\n",
       "      <td>BB Royal\\nSona Masoori Raw Rice/Akki</td>\n",
       "      <td>Rs 1125</td>\n",
       "      <td>Rs 1750</td>\n",
       "      <td>25 kg (12 - 17 Months Old) - Rs 1125.00</td>\n",
       "    </tr>\n",
       "    <tr>\n",
       "      <th>2</th>\n",
       "      <td>BB Royal</td>\n",
       "      <td>BB Royal\\nCumin/Jeera/Jeerige - Whole\\n4\\n5247...</td>\n",
       "      <td>Rs 150</td>\n",
       "      <td>Rs 250</td>\n",
       "      <td>500 g Pouch - Rs 150.00</td>\n",
       "    </tr>\n",
       "    <tr>\n",
       "      <th>3</th>\n",
       "      <td>BB Royal</td>\n",
       "      <td>BB Royal\\nSooji Ordinary/Bombay Rava</td>\n",
       "      <td>Rs 39</td>\n",
       "      <td>Rs 60</td>\n",
       "      <td>1 kg Pouch - Rs 39.00</td>\n",
       "    </tr>\n",
       "    <tr>\n",
       "      <th>4</th>\n",
       "      <td>BB Royal</td>\n",
       "      <td>BB Royal\\nSona Masoori Raw Rice/Akki - Super P...</td>\n",
       "      <td>Rs 1181.25</td>\n",
       "      <td>Rs 1875</td>\n",
       "      <td>25 kg Bag - Rs 1181.25</td>\n",
       "    </tr>\n",
       "    <tr>\n",
       "      <th>...</th>\n",
       "      <td>...</td>\n",
       "      <td>...</td>\n",
       "      <td>...</td>\n",
       "      <td>...</td>\n",
       "      <td>...</td>\n",
       "    </tr>\n",
       "    <tr>\n",
       "      <th>61</th>\n",
       "      <td>BB Royal</td>\n",
       "      <td>BB Royal\\nPoha/Avalakki/Aval/Chivda - Thick</td>\n",
       "      <td>Rs 54</td>\n",
       "      <td>Rs 80</td>\n",
       "      <td>2x1 kg Multipack - Rs 338.00</td>\n",
       "    </tr>\n",
       "    <tr>\n",
       "      <th>62</th>\n",
       "      <td>BB Royal</td>\n",
       "      <td>BB Royal\\nChanna Dal/Kadale Bele\\n4\\n14162 Rat...</td>\n",
       "      <td>Rs 176</td>\n",
       "      <td>Rs 320</td>\n",
       "      <td>1 kg Pouch - Rs 124.00</td>\n",
       "    </tr>\n",
       "    <tr>\n",
       "      <th>63</th>\n",
       "      <td>BB Royal</td>\n",
       "      <td>BB Royal\\nOrganic - Raw Peanuts</td>\n",
       "      <td>Rs 338</td>\n",
       "      <td>Rs 450</td>\n",
       "      <td>1 kg Pouch - Rs 125.00</td>\n",
       "    </tr>\n",
       "    <tr>\n",
       "      <th>64</th>\n",
       "      <td>BB Royal</td>\n",
       "      <td>BB Royal\\nGreen Moong Whole/Hesaru Kaalu - Sab...</td>\n",
       "      <td>Rs 124</td>\n",
       "      <td>Rs 180</td>\n",
       "      <td>2 kg Pouch - Rs 245.00</td>\n",
       "    </tr>\n",
       "    <tr>\n",
       "      <th>65</th>\n",
       "      <td>BB Popular</td>\n",
       "      <td>BB Popular\\nUrad Dal/Uddina Bele - Split\\n4\\n1...</td>\n",
       "      <td>Rs 125</td>\n",
       "      <td>Rs 200</td>\n",
       "      <td>200 g - Rs 34.34</td>\n",
       "    </tr>\n",
       "  </tbody>\n",
       "</table>\n",
       "<p>66 rows × 5 columns</p>\n",
       "</div>"
      ],
      "text/plain": [
       "         Brand                                               Item  \\\n",
       "0   Aashirvaad  Aashirvaad\\nAtta/Godihittu - Whole Wheat\\n4.1\\...   \n",
       "1     BB Royal               BB Royal\\nSona Masoori Raw Rice/Akki   \n",
       "2     BB Royal  BB Royal\\nCumin/Jeera/Jeerige - Whole\\n4\\n5247...   \n",
       "3     BB Royal               BB Royal\\nSooji Ordinary/Bombay Rava   \n",
       "4     BB Royal  BB Royal\\nSona Masoori Raw Rice/Akki - Super P...   \n",
       "..         ...                                                ...   \n",
       "61    BB Royal        BB Royal\\nPoha/Avalakki/Aval/Chivda - Thick   \n",
       "62    BB Royal  BB Royal\\nChanna Dal/Kadale Bele\\n4\\n14162 Rat...   \n",
       "63    BB Royal                    BB Royal\\nOrganic - Raw Peanuts   \n",
       "64    BB Royal  BB Royal\\nGreen Moong Whole/Hesaru Kaalu - Sab...   \n",
       "65  BB Popular  BB Popular\\nUrad Dal/Uddina Bele - Split\\n4\\n1...   \n",
       "\n",
       "   Discount_price Actual_price                                 Quantity  \n",
       "0          Rs 396       Rs 499                  10 kg Pouch - Rs 396.00  \n",
       "1         Rs 1125      Rs 1750  25 kg (12 - 17 Months Old) - Rs 1125.00  \n",
       "2          Rs 150       Rs 250                  500 g Pouch - Rs 150.00  \n",
       "3           Rs 39        Rs 60                    1 kg Pouch - Rs 39.00  \n",
       "4      Rs 1181.25      Rs 1875                   25 kg Bag - Rs 1181.25  \n",
       "..            ...          ...                                      ...  \n",
       "61          Rs 54        Rs 80             2x1 kg Multipack - Rs 338.00  \n",
       "62         Rs 176       Rs 320                   1 kg Pouch - Rs 124.00  \n",
       "63         Rs 338       Rs 450                   1 kg Pouch - Rs 125.00  \n",
       "64         Rs 124       Rs 180                   2 kg Pouch - Rs 245.00  \n",
       "65         Rs 125       Rs 200                         200 g - Rs 34.34  \n",
       "\n",
       "[66 rows x 5 columns]"
      ]
     },
     "execution_count": 70,
     "metadata": {},
     "output_type": "execute_result"
    }
   ],
   "source": [
    "import pandas as pd\n",
    "oil_data=pd.DataFrame(details)\n",
    "oil_data"
   ]
  },
  {
   "cell_type": "code",
   "execution_count": null,
   "metadata": {},
   "outputs": [],
   "source": []
  },
  {
   "cell_type": "code",
   "execution_count": null,
   "metadata": {},
   "outputs": [],
   "source": []
  },
  {
   "cell_type": "code",
   "execution_count": null,
   "metadata": {},
   "outputs": [],
   "source": []
  },
  {
   "cell_type": "code",
   "execution_count": null,
   "metadata": {},
   "outputs": [],
   "source": []
  }
 ],
 "metadata": {
  "kernelspec": {
   "display_name": "Python 3",
   "language": "python",
   "name": "python3"
  },
  "language_info": {
   "codemirror_mode": {
    "name": "ipython",
    "version": 3
   },
   "file_extension": ".py",
   "mimetype": "text/x-python",
   "name": "python",
   "nbconvert_exporter": "python",
   "pygments_lexer": "ipython3",
   "version": "3.8.5"
  }
 },
 "nbformat": 4,
 "nbformat_minor": 4
}
